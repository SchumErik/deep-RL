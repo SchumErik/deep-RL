{
 "cells": [
  {
   "cell_type": "markdown",
   "metadata": {},
   "source": [
    "## Dagger"
   ]
  },
  {
   "cell_type": "markdown",
   "metadata": {},
   "source": [
    "This notebook implements dagger. Dagger recongizes that a strict cloning approach will result in your policy going to states that the expert may not have encountered. TO overcome this, dagger \"collects the states your policy wondered into during its evaluation runs, and ask the expert what it would have done in the same state. Then you augment your training dataset with these new state-action pairs. This gives your policy a better chance of reaching good performance early on. Practically this means instantiating the expert policy and calling policy_fn with the states encountered by your policy during evaluation, and adding those new state-action pairs to the training dataset. You can get fancy with how you combine these, by slowly phasing out the expert only data, but just adding them to the training set is valid. This should improve the training substantially on some of the environments.\" From - https://www.reddit.com/r/berkeleydeeprlcourse/comments/5suhf3/hw_1_results_and_lessons_learned/ddpv8dq/\n",
    "For more background on dagger, just google.  Here are some slides from the Berkeley course - http://rll.berkeley.edu/deeprlcourse/docs/2015.10.5.dagger.pdf"
   ]
  },
  {
   "cell_type": "markdown",
   "metadata": {},
   "source": [
    "The code in this notebook is largely based off code posted at https://github.com/ghostFaceKillah/deep-rl-berkeley/tree/master/hw1 "
   ]
  },
  {
   "cell_type": "code",
   "execution_count": 6,
   "metadata": {
    "collapsed": false
   },
   "outputs": [],
   "source": [
    "import gym\n",
    "import load_policy\n",
    "import matplotlib.pyplot as plt\n",
    "import numpy as np\n",
    "import pandas as pd\n",
    "import pickle\n",
    "import seaborn as sns\n",
    "import tensorflow as tf\n",
    "import tf_util\n",
    "import tqdm\n",
    "\n",
    "from sklearn.utils import shuffle\n",
    "\n",
    "from keras.models import Sequential\n",
    "from keras.layers import Dense, Lambda\n",
    "from keras.optimizers import Adam\n",
    "\n",
    "%matplotlib inline\n"
   ]
  },
  {
   "cell_type": "code",
   "execution_count": 2,
   "metadata": {
    "collapsed": true
   },
   "outputs": [],
   "source": [
    "env_name = \"Reacher-v1\""
   ]
  },
  {
   "cell_type": "code",
   "execution_count": 3,
   "metadata": {
    "collapsed": true
   },
   "outputs": [],
   "source": [
    "def load_policy_fn(env_name):\n",
    "    print('Gathering expert data')\n",
    "    print('loading and building expert policy')\n",
    "    policy_fname = 'experts/{}.pkl'.format(env_name)\n",
    "    policy_fn = load_policy.load_policy(policy_fname)\n",
    "    print('loaded and built')\n",
    "    return policy_fn\n",
    "\n",
    "\n",
    "def get_batch_of_full_expert_data(policy_fn, env, render=False):\n",
    "    with tf.Session():\n",
    "        tf_util.initialize()\n",
    "\n",
    "        max_steps = env.spec.tags.get('wrapper_config.TimeLimit.max_episode_steps')\n",
    "\n",
    "        returns = []\n",
    "        observations = []\n",
    "        actions = []\n",
    "        steps_numbers = []\n",
    "\n",
    "        obs = env.reset()\n",
    "        done = False\n",
    "        totalr = 0.\n",
    "        steps = 0\n",
    "        while not done:\n",
    "            action = policy_fn(obs[None,:])\n",
    "            observations.append(obs)\n",
    "            actions.append(action)\n",
    "            obs, r, done, _ = env.step(action)\n",
    "            totalr += r\n",
    "            steps += 1\n",
    "            if render:\n",
    "                env.render()\n",
    "            if steps >= max_steps:\n",
    "                break\n",
    "        steps_numbers.append(steps)\n",
    "        returns.append(totalr)\n",
    "\n",
    "        expert_data = {'observations': np.array(observations),\n",
    "                       'actions': np.array(actions),\n",
    "                       'returns': np.array(returns),\n",
    "                       'steps': np.array(steps_numbers)}\n",
    "\n",
    "    return expert_data\n",
    "\n",
    "\n",
    "def test_run_our_model(model, env, rollouts=20, render=False):\n",
    "    max_steps = env.spec.tags.get('wrapper_config.TimeLimit.max_episode_steps')\n",
    "\n",
    "    returns = []\n",
    "    observations = []\n",
    "    actions = []\n",
    "    steps_numbers = []\n",
    "\n",
    "    for i in tqdm.tqdm(range(rollouts)):\n",
    "        obs = env.reset()\n",
    "        done = False\n",
    "        totalr = 0.\n",
    "        steps = 0\n",
    "        while not done:\n",
    "            action = model.predict(obs[None, :])\n",
    "            observations.append(obs)\n",
    "            actions.append(action)\n",
    "            obs, r, done, _ = env.step(action)\n",
    "            totalr += r\n",
    "            steps += 1\n",
    "            if render:\n",
    "                env.render()\n",
    "            if steps >= max_steps:\n",
    "                break\n",
    "        steps_numbers.append(steps)\n",
    "        returns.append(totalr)\n",
    "\n",
    "    return {'observations': np.array(observations),\n",
    "            'actions': np.array(actions),\n",
    "            'returns': np.array(returns),\n",
    "            'steps': np.array(steps_numbers)}\n",
    "\n",
    "\n",
    "\n",
    "def run_expert_on_observations(observations, policy_fn):\n",
    "    with tf.Session():\n",
    "        tf_util.initialize()\n",
    "\n",
    "        actions = []\n",
    "\n",
    "        for obs in observations:\n",
    "            action = policy_fn(obs[None,:])\n",
    "            actions.append(action)\n",
    "\n",
    "    return np.array(actions)\n",
    "\n",
    "\n",
    "def build_net(data, env):\n",
    "    mean = np.mean(data['observations'], axis=0)\n",
    "    std = np.std(data['observations'], axis=0) + 1e-6\n",
    "\n",
    "    observations_dim = env.observation_space.shape[0]\n",
    "    actions_dim = env.action_space.shape[0]\n",
    "\n",
    "    model = Sequential([\n",
    "        Lambda(lambda x: (x - mean) / std,\n",
    "               batch_input_shape=(None, observations_dim)),\n",
    "        Dense(64, activation='tanh'),\n",
    "        Dense(64, activation='tanh'),\n",
    "        Dense(actions_dim)\n",
    "    ])\n",
    "\n",
    "    opt = Adam(lr=1e-4)\n",
    "    model.compile(optimizer=opt, loss='mse', metrics=['mse'])\n",
    "    return model\n",
    "\n",
    "\n",
    "def get_training_opts():\n",
    "    return dict(validation_split=0.1,\n",
    "                batch_size=256,\n",
    "                nb_epoch=5,\n",
    "                verbose=2)\n",
    "\n",
    "\n",
    "def extract_stats(data):\n",
    "    mean = data['returns'].mean()\n",
    "    std = data['returns'].std()\n",
    "    x = data['steps']\n",
    "    pct_full_steps =  (x / x.max()).mean()\n",
    "\n",
    "    return pd.Series({\n",
    "        'mean reward': mean,\n",
    "        'std reward': std,\n",
    "        'pct full rollout': pct_full_steps\n",
    "    })"
   ]
  },
  {
   "cell_type": "markdown",
   "metadata": {},
   "source": [
    "## Run Dagger"
   ]
  },
  {
   "cell_type": "markdown",
   "metadata": {},
   "source": [
    "This is main part of the notebook to study.  See how dagger is slowly gettings some results, asking the expert, retraining, and going back to the expert. You will want to make the loop much larger, I have it set for 5 for testing."
   ]
  },
  {
   "cell_type": "markdown",
   "metadata": {},
   "source": [
    "Steps in Dagger:  \n",
    "- 1) train cloned policy Pi(u_t, o_t) from expert data  \n",
    "- 2) run Pi(u_t, o_t) to get data set D_pi = {o_1, ... , o_M}  \n",
    "- 3) Ask human to label D_pi with actions  \n",
    "- 4) Aggregate the dataset  "
   ]
  },
  {
   "cell_type": "code",
   "execution_count": 4,
   "metadata": {
    "collapsed": false
   },
   "outputs": [
    {
     "name": "stderr",
     "output_type": "stream",
     "text": [
      "[2017-02-14 15:55:30,069] Making new env: Reacher-v1\n"
     ]
    },
    {
     "name": "stdout",
     "output_type": "stream",
     "text": [
      "Gathering expert data\n",
      "loading and building expert policy\n",
      "obs (1, 11) (1, 11)\n",
      "loaded and built\n",
      "Train on 45 samples, validate on 5 samples\n",
      "Epoch 1/5\n"
     ]
    },
    {
     "name": "stderr",
     "output_type": "stream",
     "text": [
      " 15%|█▌        | 3/20 [00:00<00:00, 24.50it/s]"
     ]
    },
    {
     "name": "stdout",
     "output_type": "stream",
     "text": [
      "0s - loss: 0.0485 - mean_squared_error: 0.0485 - val_loss: 0.0231 - val_mean_squared_error: 0.0231\n",
      "Epoch 2/5\n",
      "0s - loss: 0.0445 - mean_squared_error: 0.0445 - val_loss: 0.0211 - val_mean_squared_error: 0.0211\n",
      "Epoch 3/5\n",
      "0s - loss: 0.0395 - mean_squared_error: 0.0395 - val_loss: 0.0193 - val_mean_squared_error: 0.0193\n",
      "Epoch 4/5\n",
      "0s - loss: 0.0350 - mean_squared_error: 0.0350 - val_loss: 0.0178 - val_mean_squared_error: 0.0178\n",
      "Epoch 5/5\n",
      "0s - loss: 0.0312 - mean_squared_error: 0.0312 - val_loss: 0.0165 - val_mean_squared_error: 0.0165\n"
     ]
    },
    {
     "name": "stderr",
     "output_type": "stream",
     "text": [
      "100%|██████████| 20/20 [00:00<00:00, 27.48it/s]\n",
      " 15%|█▌        | 3/20 [00:00<00:00, 29.14it/s]"
     ]
    },
    {
     "name": "stdout",
     "output_type": "stream",
     "text": [
      "Train on 945 samples, validate on 105 samples\n",
      "Epoch 1/5\n",
      "0s - loss: 0.8934 - mean_squared_error: 0.8934 - val_loss: 0.8244 - val_mean_squared_error: 0.8244\n",
      "Epoch 2/5\n",
      "0s - loss: 0.8180 - mean_squared_error: 0.8180 - val_loss: 0.7423 - val_mean_squared_error: 0.7423\n",
      "Epoch 3/5\n",
      "0s - loss: 0.7371 - mean_squared_error: 0.7371 - val_loss: 0.6629 - val_mean_squared_error: 0.6629\n",
      "Epoch 4/5\n",
      "0s - loss: 0.6603 - mean_squared_error: 0.6603 - val_loss: 0.5913 - val_mean_squared_error: 0.5913\n",
      "Epoch 5/5\n",
      "0s - loss: 0.5918 - mean_squared_error: 0.5918 - val_loss: 0.5286 - val_mean_squared_error: 0.5286\n"
     ]
    },
    {
     "name": "stderr",
     "output_type": "stream",
     "text": [
      "100%|██████████| 20/20 [00:00<00:00, 28.09it/s]\n",
      "  0%|          | 0/20 [00:00<?, ?it/s]"
     ]
    },
    {
     "name": "stdout",
     "output_type": "stream",
     "text": [
      "Train on 1845 samples, validate on 205 samples\n",
      "Epoch 1/5\n",
      "0s - loss: 0.5776 - mean_squared_error: 0.5776 - val_loss: 0.4937 - val_mean_squared_error: 0.4937\n",
      "Epoch 2/5\n",
      "0s - loss: 0.4712 - mean_squared_error: 0.4712 - val_loss: 0.4020 - val_mean_squared_error: 0.4020\n",
      "Epoch 3/5\n",
      "0s - loss: 0.3846 - mean_squared_error: 0.3846 - val_loss: 0.3290 - val_mean_squared_error: 0.3290\n",
      "Epoch 4/5\n",
      "0s - loss: 0.3161 - mean_squared_error: 0.3161 - val_loss: 0.2719 - val_mean_squared_error: 0.2719\n",
      "Epoch 5/5\n",
      "0s - loss: 0.2615 - mean_squared_error: 0.2615 - val_loss: 0.2280 - val_mean_squared_error: 0.2280\n"
     ]
    },
    {
     "name": "stderr",
     "output_type": "stream",
     "text": [
      "100%|██████████| 20/20 [00:00<00:00, 28.13it/s]\n",
      "  0%|          | 0/20 [00:00<?, ?it/s]"
     ]
    },
    {
     "name": "stdout",
     "output_type": "stream",
     "text": [
      "Train on 2745 samples, validate on 305 samples\n",
      "Epoch 1/5\n",
      "0s - loss: 0.2355 - mean_squared_error: 0.2355 - val_loss: 0.2200 - val_mean_squared_error: 0.2200\n",
      "Epoch 2/5\n",
      "0s - loss: 0.2021 - mean_squared_error: 0.2021 - val_loss: 0.1942 - val_mean_squared_error: 0.1942\n",
      "Epoch 3/5\n",
      "0s - loss: 0.1802 - mean_squared_error: 0.1802 - val_loss: 0.1748 - val_mean_squared_error: 0.1748\n",
      "Epoch 4/5\n",
      "0s - loss: 0.1636 - mean_squared_error: 0.1636 - val_loss: 0.1597 - val_mean_squared_error: 0.1597\n",
      "Epoch 5/5\n",
      "0s - loss: 0.1506 - mean_squared_error: 0.1506 - val_loss: 0.1479 - val_mean_squared_error: 0.1479\n"
     ]
    },
    {
     "name": "stderr",
     "output_type": "stream",
     "text": [
      "100%|██████████| 20/20 [00:00<00:00, 28.11it/s]\n",
      "  0%|          | 0/20 [00:00<?, ?it/s]"
     ]
    },
    {
     "name": "stdout",
     "output_type": "stream",
     "text": [
      "Train on 3645 samples, validate on 405 samples\n",
      "Epoch 1/5\n",
      "0s - loss: 0.1807 - mean_squared_error: 0.1807 - val_loss: 0.1762 - val_mean_squared_error: 0.1762\n",
      "Epoch 2/5\n",
      "0s - loss: 0.1624 - mean_squared_error: 0.1624 - val_loss: 0.1582 - val_mean_squared_error: 0.1582\n",
      "Epoch 3/5\n",
      "0s - loss: 0.1476 - mean_squared_error: 0.1476 - val_loss: 0.1433 - val_mean_squared_error: 0.1433\n",
      "Epoch 4/5\n",
      "0s - loss: 0.1355 - mean_squared_error: 0.1355 - val_loss: 0.1321 - val_mean_squared_error: 0.1321\n",
      "Epoch 5/5\n",
      "0s - loss: 0.1254 - mean_squared_error: 0.1254 - val_loss: 0.1226 - val_mean_squared_error: 0.1226\n"
     ]
    },
    {
     "name": "stderr",
     "output_type": "stream",
     "text": [
      "100%|██████████| 20/20 [00:00<00:00, 28.64it/s]\n"
     ]
    }
   ],
   "source": [
    "policy_fn = load_policy_fn(env_name)\n",
    "\n",
    "env = gym.make(env_name)\n",
    "actions_dim = env.action_space.shape[0]\n",
    "\n",
    "training_opts = get_training_opts()\n",
    "\n",
    "data = get_batch_of_full_expert_data(policy_fn, env, render=False)\n",
    "x = data['observations']\n",
    "y = data['actions'].reshape(-1, actions_dim)\n",
    "\n",
    "model = build_net(data, env)\n",
    "\n",
    "stats = {}\n",
    "rewards = {}\n",
    "\n",
    "for i in range(5):  ###Should be larger, like 50\n",
    "    # 1) train cloning policy from expert data\n",
    "    x, y = shuffle(x, y)\n",
    "    model.fit(x, y, **training_opts)\n",
    "\n",
    "    # 2) run cloning policy to get new data\n",
    "    data = test_run_our_model(model, env, render=False)\n",
    "\n",
    "    new_x = data['observations']\n",
    "    stats[i] = extract_stats(data)\n",
    "    rewards[i] = data['returns']\n",
    "\n",
    "    # 3) ask expert to label D_pi with actions\n",
    "    new_y = run_expert_on_observations(new_x, policy_fn)\n",
    "\n",
    "    # 4) Aggregate the dataset\n",
    "    x = np.append(x, new_x, axis=0)\n",
    "    y = np.append(y, new_y.reshape(-1, actions_dim), axis=0)\n",
    "\n",
    "\n",
    "df = pd.DataFrame(stats).T\n",
    "df.index.name = 'iterations'\n",
    "df.to_csv('data/{}-DAgger.csv'.format(env_name))\n",
    "pickle_name = 'data/{}-DAgger-rewards.p'.format(env_name)\n",
    "pickle.dump(rewards, open(pickle_name, 'wb'))"
   ]
  },
  {
   "cell_type": "markdown",
   "metadata": {},
   "source": [
    "## Show Results"
   ]
  },
  {
   "cell_type": "code",
   "execution_count": 9,
   "metadata": {
    "collapsed": false
   },
   "outputs": [
    {
     "data": {
      "image/png": "[encoded data removed]",
      "text/plain": [
       "<matplotlib.figure.Figure at 0x11a6cf390>"
      ]
     },
     "metadata": {},
     "output_type": "display_data"
    }
   ],
   "source": [
    "pickle_name = 'data/{}-DAgger-rewards.p'.format(env_name)\n",
    "returns = pickle.load(open(pickle_name, 'rb'))\n",
    "\n",
    "their_data = pickle.load(open('data/{}-their.p'.format(env_name), 'rb'))['returns']\n",
    "their_data = np.array([their_data for _ in range(len(returns.keys()))]).T\n",
    "\n",
    "df = pd.DataFrame(returns)\n",
    "\n",
    "sns.tsplot(data=their_data, color='red', linestyle='--')\n",
    "sns.tsplot(time=df.columns, data=df.values, color='blue', linestyle='-')\n",
    "plt.ylabel(\"Mean reward\")\n",
    "plt.xlabel(\"Number of iterations (DAgger)\")\n",
    "plt.title(\"{} - DAgger performance\".format(env_name))\n",
    "\n",
    "import matplotlib.patches as mpatches\n",
    "plt.legend(handles=[\n",
    "    mpatches.Patch(color='blue', label='DAgger policy'),\n",
    "    mpatches.Patch(color='red', label='expert policy'),\n",
    "], loc='lower right')\n",
    "\n",
    "plt.savefig(\"dagger-{}.png\".format(env_name),format='png')\n"
   ]
  },
  {
   "cell_type": "code",
   "execution_count": 10,
   "metadata": {
    "collapsed": false
   },
   "outputs": [],
   "source": [
    "plt.close()"
   ]
  }
 ],
 "metadata": {
  "anaconda-cloud": {},
  "kernelspec": {
   "display_name": "Python [conda root]",
   "language": "python",
   "name": "conda-root-py"
  },
  "language_info": {
   "codemirror_mode": {
    "name": "ipython",
    "version": 3
   },
   "file_extension": ".py",
   "mimetype": "text/x-python",
   "name": "python",
   "nbconvert_exporter": "python",
   "pygments_lexer": "ipython3",
   "version": "3.5.2"
  }
 },
 "nbformat": 4,
 "nbformat_minor": 1
}
